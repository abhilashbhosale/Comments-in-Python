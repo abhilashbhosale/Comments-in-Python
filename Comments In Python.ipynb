{
 "cells": [
  {
   "cell_type": "code",
   "execution_count": 1,
   "id": "9f99ac0d-f7af-4bc8-9ba8-ae5fd65075cc",
   "metadata": {},
   "outputs": [
    {
     "name": "stdout",
     "output_type": "stream",
     "text": [
      "Hello World\n"
     ]
    }
   ],
   "source": [
    "print(\"Hello World\")"
   ]
  },
  {
   "cell_type": "code",
   "execution_count": 2,
   "id": "f36de850-de49-4a0b-bb97-6d2be43e168a",
   "metadata": {},
   "outputs": [
    {
     "name": "stdout",
     "output_type": "stream",
     "text": [
      "HELLO WORLD\n"
     ]
    }
   ],
   "source": [
    "print(\"HELLO WORLD\")"
   ]
  },
  {
   "cell_type": "code",
   "execution_count": 3,
   "id": "9d1d897f-3cde-4042-8431-af26c19dd7d3",
   "metadata": {},
   "outputs": [],
   "source": [
    "#print(\"This is Python \")"
   ]
  },
  {
   "cell_type": "markdown",
   "id": "06e33fb3-045c-4d1d-bad9-e905c036a681",
   "metadata": {},
   "source": [
    "## \"#\" is used for single line comment."
   ]
  },
  {
   "cell_type": "code",
   "execution_count": 5,
   "id": "ceb771b6-1a6a-4b30-bde2-2ed6fb3c7927",
   "metadata": {},
   "outputs": [],
   "source": [
    "# this is comment . comment is ised to explain the use of code ."
   ]
  },
  {
   "cell_type": "markdown",
   "id": "62e789c5-766a-4b9a-8d0d-7678131c0f84",
   "metadata": {},
   "source": [
    "## Multi line comment"
   ]
  },
  {
   "cell_type": "code",
   "execution_count": 7,
   "id": "b313c7a3-2b74-4186-b12e-12bfaeb79b80",
   "metadata": {},
   "outputs": [
    {
     "data": {
      "text/plain": [
       "'\\ntriple quotes (single \\'\\' or double qoutes \"\") are used when comments are multi line\\nlike this comment. \\nmulti line comments are used when there is lot of expllaining about block of code.\\n\\n'"
      ]
     },
     "execution_count": 7,
     "metadata": {},
     "output_type": "execute_result"
    }
   ],
   "source": [
    "\"\"\"\n",
    "triple quotes (single '' or double qoutes \"\") are used when comments are multi line\n",
    "like this comment. \n",
    "multi line comments are used when there is lot of expllaining about block of code.\n",
    "\n",
    "\"\"\""
   ]
  },
  {
   "cell_type": "code",
   "execution_count": 8,
   "id": "0b237fe0-2158-4d35-ae6e-6b1ecdb62b7e",
   "metadata": {},
   "outputs": [
    {
     "data": {
      "text/plain": [
       "'\\nthis is also multi line comment.\\nthis is python.\\nhello world, \\nwelcome to python coding. \\n'"
      ]
     },
     "execution_count": 8,
     "metadata": {},
     "output_type": "execute_result"
    }
   ],
   "source": [
    "'''\n",
    "this is also multi line comment.\n",
    "this is python.\n",
    "hello world, \n",
    "welcome to python coding. \n",
    "'''"
   ]
  },
  {
   "cell_type": "code",
   "execution_count": null,
   "id": "47fc6fcf-f240-4031-b370-87e1ee69caf4",
   "metadata": {},
   "outputs": [],
   "source": []
  }
 ],
 "metadata": {
  "kernelspec": {
   "display_name": "Python 3 (ipykernel)",
   "language": "python",
   "name": "python3"
  },
  "language_info": {
   "codemirror_mode": {
    "name": "ipython",
    "version": 3
   },
   "file_extension": ".py",
   "mimetype": "text/x-python",
   "name": "python",
   "nbconvert_exporter": "python",
   "pygments_lexer": "ipython3",
   "version": "3.12.7"
  }
 },
 "nbformat": 4,
 "nbformat_minor": 5
}
